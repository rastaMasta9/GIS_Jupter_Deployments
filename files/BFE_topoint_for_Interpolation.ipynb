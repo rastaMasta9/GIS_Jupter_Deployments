{
 "cells": [
  {
   "cell_type": "code",
   "execution_count": 35,
   "id": "7906b719",
   "metadata": {},
   "outputs": [],
   "source": [
    "import folium\n",
    "import warnings\n",
    "import geopandas as gpd\n",
    "import numpy as np\n",
    "from osgeo import gdal\n",
    "from osgeo import ogr\n",
    "import matplotlib.pyplot as plt\n",
    "from shapely.geometry import Point\n",
    "warnings.filterwarnings('ignore')"
   ]
  },
  {
   "cell_type": "markdown",
   "id": "8019cd34",
   "metadata": {},
   "source": [
    "1. CONVERT BFE LINES TO POINT ELEVATIONS\n",
    "To interpolate area between BFEs it is necessary to convert the original BFE lines to a point dataframe. Since the lines have a constant elevation, two points for each line  will be created with the corresponding BFE line elevation. "
   ]
  },
  {
   "cell_type": "code",
   "execution_count": 36,
   "id": "5aef7580",
   "metadata": {},
   "outputs": [
    {
     "data": {
      "text/html": [
       "<div style=\"width:100%;\"><div style=\"position:relative;width:100%;height:0;padding-bottom:60%;\"><span style=\"color:#565656\">Make this Notebook Trusted to load map: File -> Trust Notebook</span><iframe srcdoc=\"&lt;!DOCTYPE html&gt;\n",
       "&lt;head&gt;    \n",
       "    &lt;meta http-equiv=&quot;content-type&quot; content=&quot;text/html; charset=UTF-8&quot; /&gt;\n",
       "    \n",
       "        &lt;script&gt;\n",
       "            L_NO_TOUCH = false;\n",
       "            L_DISABLE_3D = false;\n",
       "        &lt;/script&gt;\n",
       "    \n",
       "    &lt;style&gt;html, body {width: 100%;height: 100%;margin: 0;padding: 0;}&lt;/style&gt;\n",
       "    &lt;style&gt;#map {position:absolute;top:0;bottom:0;right:0;left:0;}&lt;/style&gt;\n",
       "    &lt;script src=&quot;https://cdn.jsdelivr.net/npm/leaflet@1.6.0/dist/leaflet.js&quot;&gt;&lt;/script&gt;\n",
       "    &lt;script src=&quot;https://code.jquery.com/jquery-1.12.4.min.js&quot;&gt;&lt;/script&gt;\n",
       "    &lt;script src=&quot;https://maxcdn.bootstrapcdn.com/bootstrap/3.2.0/js/bootstrap.min.js&quot;&gt;&lt;/script&gt;\n",
       "    &lt;script src=&quot;https://cdnjs.cloudflare.com/ajax/libs/Leaflet.awesome-markers/2.0.2/leaflet.awesome-markers.js&quot;&gt;&lt;/script&gt;\n",
       "    &lt;link rel=&quot;stylesheet&quot; href=&quot;https://cdn.jsdelivr.net/npm/leaflet@1.6.0/dist/leaflet.css&quot;/&gt;\n",
       "    &lt;link rel=&quot;stylesheet&quot; href=&quot;https://maxcdn.bootstrapcdn.com/bootstrap/3.2.0/css/bootstrap.min.css&quot;/&gt;\n",
       "    &lt;link rel=&quot;stylesheet&quot; href=&quot;https://maxcdn.bootstrapcdn.com/bootstrap/3.2.0/css/bootstrap-theme.min.css&quot;/&gt;\n",
       "    &lt;link rel=&quot;stylesheet&quot; href=&quot;https://maxcdn.bootstrapcdn.com/font-awesome/4.6.3/css/font-awesome.min.css&quot;/&gt;\n",
       "    &lt;link rel=&quot;stylesheet&quot; href=&quot;https://cdnjs.cloudflare.com/ajax/libs/Leaflet.awesome-markers/2.0.2/leaflet.awesome-markers.css&quot;/&gt;\n",
       "    &lt;link rel=&quot;stylesheet&quot; href=&quot;https://cdn.jsdelivr.net/gh/python-visualization/folium/folium/templates/leaflet.awesome.rotate.min.css&quot;/&gt;\n",
       "    \n",
       "            &lt;meta name=&quot;viewport&quot; content=&quot;width=device-width,\n",
       "                initial-scale=1.0, maximum-scale=1.0, user-scalable=no&quot; /&gt;\n",
       "            &lt;style&gt;\n",
       "                #map_388978155d531a3bc92e779bfe2c62db {\n",
       "                    position: relative;\n",
       "                    width: 100.0%;\n",
       "                    height: 100.0%;\n",
       "                    left: 0.0%;\n",
       "                    top: 0.0%;\n",
       "                }\n",
       "            &lt;/style&gt;\n",
       "        \n",
       "&lt;/head&gt;\n",
       "&lt;body&gt;    \n",
       "    \n",
       "            &lt;div class=&quot;folium-map&quot; id=&quot;map_388978155d531a3bc92e779bfe2c62db&quot; &gt;&lt;/div&gt;\n",
       "        \n",
       "&lt;/body&gt;\n",
       "&lt;script&gt;    \n",
       "    \n",
       "            var map_388978155d531a3bc92e779bfe2c62db = L.map(\n",
       "                &quot;map_388978155d531a3bc92e779bfe2c62db&quot;,\n",
       "                {\n",
       "                    center: [32.8130102, -96.8010159],\n",
       "                    crs: L.CRS.EPSG3857,\n",
       "                    zoom: 16,\n",
       "                    zoomControl: true,\n",
       "                    preferCanvas: false,\n",
       "                }\n",
       "            );\n",
       "\n",
       "            \n",
       "\n",
       "        \n",
       "    \n",
       "            var tile_layer_e87b753a39de2256673f90edb153feb3 = L.tileLayer(\n",
       "                &quot;https://{s}.tile.openstreetmap.org/{z}/{x}/{y}.png&quot;,\n",
       "                {&quot;attribution&quot;: &quot;Data by \\u0026copy; \\u003ca href=\\&quot;http://openstreetmap.org\\&quot;\\u003eOpenStreetMap\\u003c/a\\u003e, under \\u003ca href=\\&quot;http://www.openstreetmap.org/copyright\\&quot;\\u003eODbL\\u003c/a\\u003e.&quot;, &quot;detectRetina&quot;: false, &quot;maxNativeZoom&quot;: 18, &quot;maxZoom&quot;: 18, &quot;minZoom&quot;: 0, &quot;noWrap&quot;: false, &quot;opacity&quot;: 1, &quot;subdomains&quot;: &quot;abc&quot;, &quot;tms&quot;: false}\n",
       "            ).addTo(map_388978155d531a3bc92e779bfe2c62db);\n",
       "        \n",
       "    \n",
       "\n",
       "        function geo_json_73d196dfea1cb4dc4c9e54d569322c74_onEachFeature(feature, layer) {\n",
       "            layer.on({\n",
       "            });\n",
       "        };\n",
       "        var geo_json_73d196dfea1cb4dc4c9e54d569322c74 = L.geoJson(null, {\n",
       "                onEachFeature: geo_json_73d196dfea1cb4dc4c9e54d569322c74_onEachFeature,\n",
       "            \n",
       "        });\n",
       "\n",
       "        function geo_json_73d196dfea1cb4dc4c9e54d569322c74_add (data) {\n",
       "            geo_json_73d196dfea1cb4dc4c9e54d569322c74\n",
       "                .addData(data)\n",
       "                .addTo(map_388978155d531a3bc92e779bfe2c62db);\n",
       "        }\n",
       "            geo_json_73d196dfea1cb4dc4c9e54d569322c74_add({&quot;features&quot;: [{&quot;geometry&quot;: {&quot;coordinates&quot;: [[-96.79928865999995, 32.81434883000003, 0.0], [-96.79837495799995, 32.813770774000034, 0.0]], &quot;type&quot;: &quot;LineString&quot;}, &quot;id&quot;: &quot;0&quot;, &quot;properties&quot;: {&quot;Elevation&quot;: &quot;10&quot;, &quot;Name&quot;: &quot;BF1&quot;}, &quot;type&quot;: &quot;Feature&quot;}, {&quot;geometry&quot;: {&quot;coordinates&quot;: [[-96.79979212799998, 32.813547010000036, 0.0], [-96.79877586799995, 32.81306218900005, 0.0]], &quot;type&quot;: &quot;LineString&quot;}, &quot;id&quot;: &quot;1&quot;, &quot;properties&quot;: {&quot;Elevation&quot;: &quot;11&quot;, &quot;Name&quot;: &quot;BF2&quot;}, &quot;type&quot;: &quot;Feature&quot;}, {&quot;geometry&quot;: {&quot;coordinates&quot;: [[-96.80040747699996, 32.81350039300003, 0.0], [-96.80002521499995, 32.812502780000045, 0.0]], &quot;type&quot;: &quot;LineString&quot;}, &quot;id&quot;: &quot;2&quot;, &quot;properties&quot;: {&quot;Elevation&quot;: &quot;8&quot;, &quot;Name&quot;: &quot;BF3&quot;}, &quot;type&quot;: &quot;Feature&quot;}, {&quot;geometry&quot;: {&quot;coordinates&quot;: [[-96.80108809199999, 32.81304354200006, 0.0], [-96.80052868299998, 32.812353604000066, 0.0]], &quot;type&quot;: &quot;LineString&quot;}, &quot;id&quot;: &quot;3&quot;, &quot;properties&quot;: {&quot;Elevation&quot;: &quot;5&quot;, &quot;Name&quot;: &quot;BF4&quot;}, &quot;type&quot;: &quot;Feature&quot;}, {&quot;geometry&quot;: {&quot;coordinates&quot;: [[-96.80112538599997, 32.81191540100008, 0.0], [-96.80043544799997, 32.81187810700004, 0.0]], &quot;type&quot;: &quot;LineString&quot;}, &quot;id&quot;: &quot;4&quot;, &quot;properties&quot;: {&quot;Elevation&quot;: &quot;2&quot;, &quot;Name&quot;: &quot;BF5&quot;}, &quot;type&quot;: &quot;Feature&quot;}], &quot;type&quot;: &quot;FeatureCollection&quot;});\n",
       "\n",
       "        \n",
       "    \n",
       "\n",
       "        function geo_json_ac32d8480d16987993cbcf7c1e0a2323_onEachFeature(feature, layer) {\n",
       "            layer.on({\n",
       "            });\n",
       "        };\n",
       "        var geo_json_ac32d8480d16987993cbcf7c1e0a2323 = L.geoJson(null, {\n",
       "                onEachFeature: geo_json_ac32d8480d16987993cbcf7c1e0a2323_onEachFeature,\n",
       "            \n",
       "        });\n",
       "\n",
       "        function geo_json_ac32d8480d16987993cbcf7c1e0a2323_add (data) {\n",
       "            geo_json_ac32d8480d16987993cbcf7c1e0a2323\n",
       "                .addData(data)\n",
       "                .addTo(map_388978155d531a3bc92e779bfe2c62db);\n",
       "        }\n",
       "            geo_json_ac32d8480d16987993cbcf7c1e0a2323_add({&quot;features&quot;: [{&quot;geometry&quot;: {&quot;coordinates&quot;: [[[-96.79928865999995, 32.81434883000003, 0.0], [-96.79837495799995, 32.813770774000034, 0.0], [-96.79877586799995, 32.81306218900005, 0.0], [-96.80002521499995, 32.812502780000045, 0.0], [-96.80052868299998, 32.812353604000066, 0.0], [-96.80043544799997, 32.81187810700004, 0.0], [-96.80112538599997, 32.81191540100008, 0.0], [-96.80108809199999, 32.81304354200006, 0.0], [-96.80040747699996, 32.81350039300003, 0.0], [-96.79979212799998, 32.813547010000036, 0.0], [-96.79928865999995, 32.81434883000003, 0.0]]], &quot;type&quot;: &quot;Polygon&quot;}, &quot;id&quot;: &quot;0&quot;, &quot;properties&quot;: {&quot;Name&quot;: null}, &quot;type&quot;: &quot;Feature&quot;}], &quot;type&quot;: &quot;FeatureCollection&quot;});\n",
       "\n",
       "        \n",
       "&lt;/script&gt;\" style=\"position:absolute;width:100%;height:100%;left:0;top:0;border:none !important;\" allowfullscreen webkitallowfullscreen mozallowfullscreen></iframe></div></div>"
      ],
      "text/plain": [
       "<folium.folium.Map at 0x16f4dd67850>"
      ]
     },
     "execution_count": 36,
     "metadata": {},
     "output_type": "execute_result"
    }
   ],
   "source": [
    "# read in shapefiles and plot\n",
    "bfe = gpd.read_file('BFEs.shp')\n",
    "fsp = gpd.read_file('FSP.shp')\n",
    "m = folium.Map(location=[32.8130102, -96.8010159], zoom_start=16)\n",
    "bfe_f = folium.GeoJson(data=bfe.to_json())\n",
    "fsp_f = folium.GeoJson(data=fsp.to_json())\n",
    "bfe_f.add_to(m)\n",
    "fsp_f.add_to(m)\n",
    "m"
   ]
  },
  {
   "cell_type": "code",
   "execution_count": 37,
   "id": "a90bb0b2",
   "metadata": {},
   "outputs": [
    {
     "data": {
      "text/html": [
       "<div>\n",
       "<style scoped>\n",
       "    .dataframe tbody tr th:only-of-type {\n",
       "        vertical-align: middle;\n",
       "    }\n",
       "\n",
       "    .dataframe tbody tr th {\n",
       "        vertical-align: top;\n",
       "    }\n",
       "\n",
       "    .dataframe thead th {\n",
       "        text-align: right;\n",
       "    }\n",
       "</style>\n",
       "<table border=\"1\" class=\"dataframe\">\n",
       "  <thead>\n",
       "    <tr style=\"text-align: right;\">\n",
       "      <th></th>\n",
       "      <th>Name</th>\n",
       "      <th>Elevation</th>\n",
       "      <th>geometry</th>\n",
       "    </tr>\n",
       "  </thead>\n",
       "  <tbody>\n",
       "    <tr>\n",
       "      <th>0</th>\n",
       "      <td>BF1</td>\n",
       "      <td>10</td>\n",
       "      <td>LINESTRING Z (-96.79929 32.81435 0.00000, -96....</td>\n",
       "    </tr>\n",
       "    <tr>\n",
       "      <th>1</th>\n",
       "      <td>BF2</td>\n",
       "      <td>11</td>\n",
       "      <td>LINESTRING Z (-96.79979 32.81355 0.00000, -96....</td>\n",
       "    </tr>\n",
       "    <tr>\n",
       "      <th>2</th>\n",
       "      <td>BF3</td>\n",
       "      <td>8</td>\n",
       "      <td>LINESTRING Z (-96.80041 32.81350 0.00000, -96....</td>\n",
       "    </tr>\n",
       "    <tr>\n",
       "      <th>3</th>\n",
       "      <td>BF4</td>\n",
       "      <td>5</td>\n",
       "      <td>LINESTRING Z (-96.80109 32.81304 0.00000, -96....</td>\n",
       "    </tr>\n",
       "    <tr>\n",
       "      <th>4</th>\n",
       "      <td>BF5</td>\n",
       "      <td>2</td>\n",
       "      <td>LINESTRING Z (-96.80113 32.81192 0.00000, -96....</td>\n",
       "    </tr>\n",
       "  </tbody>\n",
       "</table>\n",
       "</div>"
      ],
      "text/plain": [
       "  Name Elevation                                           geometry\n",
       "0  BF1        10  LINESTRING Z (-96.79929 32.81435 0.00000, -96....\n",
       "1  BF2        11  LINESTRING Z (-96.79979 32.81355 0.00000, -96....\n",
       "2  BF3         8  LINESTRING Z (-96.80041 32.81350 0.00000, -96....\n",
       "3  BF4         5  LINESTRING Z (-96.80109 32.81304 0.00000, -96....\n",
       "4  BF5         2  LINESTRING Z (-96.80113 32.81192 0.00000, -96...."
      ]
     },
     "execution_count": 37,
     "metadata": {},
     "output_type": "execute_result"
    }
   ],
   "source": [
    "# Convert LineString geo to Point geo  \n",
    "bfe.head()"
   ]
  },
  {
   "cell_type": "code",
   "execution_count": 38,
   "id": "593fb0f6",
   "metadata": {},
   "outputs": [
    {
     "name": "stdout",
     "output_type": "stream",
     "text": [
      "Numpy Array of x,y coords for each line vertex\n",
      "[[-96.79928865999995, 32.81434883000003], [-96.79979212799998, 32.813547010000036], [-96.80040747699996, 32.81350039300003]]\n"
     ]
    }
   ],
   "source": [
    "pts = []\n",
    "for p in bfe['geometry']:\n",
    "    x1 = p.xy[0][0]\n",
    "    y1 = p.xy[1][0]\n",
    "    x2 = p.xy[0][1]\n",
    "    y2 = p.xy[1][1]\n",
    "    pts.append([[x1,y1],[x2,y2]])\n",
    "    \n",
    "pts_coords = []\n",
    "idx = 0\n",
    "while idx < 2:\n",
    "    for p in pts:\n",
    "        pts_coords.append(p[idx])\n",
    "    idx += 1\n",
    "\n",
    "print('Numpy Array of x,y coords for each line vertex')\n",
    "print(pts_coords[:3])"
   ]
  },
  {
   "cell_type": "code",
   "execution_count": 39,
   "id": "c9779397",
   "metadata": {},
   "outputs": [
    {
     "data": {
      "text/html": [
       "<div>\n",
       "<style scoped>\n",
       "    .dataframe tbody tr th:only-of-type {\n",
       "        vertical-align: middle;\n",
       "    }\n",
       "\n",
       "    .dataframe tbody tr th {\n",
       "        vertical-align: top;\n",
       "    }\n",
       "\n",
       "    .dataframe thead th {\n",
       "        text-align: right;\n",
       "    }\n",
       "</style>\n",
       "<table border=\"1\" class=\"dataframe\">\n",
       "  <thead>\n",
       "    <tr style=\"text-align: right;\">\n",
       "      <th></th>\n",
       "      <th>Name</th>\n",
       "      <th>Elevation</th>\n",
       "      <th>geometry</th>\n",
       "    </tr>\n",
       "  </thead>\n",
       "  <tbody>\n",
       "    <tr>\n",
       "      <th>0</th>\n",
       "      <td>BF1</td>\n",
       "      <td>10</td>\n",
       "      <td>POINT (-96.79929 32.81435)</td>\n",
       "    </tr>\n",
       "    <tr>\n",
       "      <th>1</th>\n",
       "      <td>BF2</td>\n",
       "      <td>11</td>\n",
       "      <td>POINT (-96.79979 32.81355)</td>\n",
       "    </tr>\n",
       "    <tr>\n",
       "      <th>2</th>\n",
       "      <td>BF3</td>\n",
       "      <td>8</td>\n",
       "      <td>POINT (-96.80041 32.81350)</td>\n",
       "    </tr>\n",
       "    <tr>\n",
       "      <th>3</th>\n",
       "      <td>BF4</td>\n",
       "      <td>5</td>\n",
       "      <td>POINT (-96.80109 32.81304)</td>\n",
       "    </tr>\n",
       "    <tr>\n",
       "      <th>4</th>\n",
       "      <td>BF5</td>\n",
       "      <td>2</td>\n",
       "      <td>POINT (-96.80113 32.81192)</td>\n",
       "    </tr>\n",
       "    <tr>\n",
       "      <th>5</th>\n",
       "      <td>BF1</td>\n",
       "      <td>10</td>\n",
       "      <td>POINT (-96.79837 32.81377)</td>\n",
       "    </tr>\n",
       "    <tr>\n",
       "      <th>6</th>\n",
       "      <td>BF2</td>\n",
       "      <td>11</td>\n",
       "      <td>POINT (-96.79878 32.81306)</td>\n",
       "    </tr>\n",
       "    <tr>\n",
       "      <th>7</th>\n",
       "      <td>BF3</td>\n",
       "      <td>8</td>\n",
       "      <td>POINT (-96.80003 32.81250)</td>\n",
       "    </tr>\n",
       "    <tr>\n",
       "      <th>8</th>\n",
       "      <td>BF4</td>\n",
       "      <td>5</td>\n",
       "      <td>POINT (-96.80053 32.81235)</td>\n",
       "    </tr>\n",
       "    <tr>\n",
       "      <th>9</th>\n",
       "      <td>BF5</td>\n",
       "      <td>2</td>\n",
       "      <td>POINT (-96.80044 32.81188)</td>\n",
       "    </tr>\n",
       "  </tbody>\n",
       "</table>\n",
       "</div>"
      ],
      "text/plain": [
       "  Name Elevation                    geometry\n",
       "0  BF1        10  POINT (-96.79929 32.81435)\n",
       "1  BF2        11  POINT (-96.79979 32.81355)\n",
       "2  BF3         8  POINT (-96.80041 32.81350)\n",
       "3  BF4         5  POINT (-96.80109 32.81304)\n",
       "4  BF5         2  POINT (-96.80113 32.81192)\n",
       "5  BF1        10  POINT (-96.79837 32.81377)\n",
       "6  BF2        11  POINT (-96.79878 32.81306)\n",
       "7  BF3         8  POINT (-96.80003 32.81250)\n",
       "8  BF4         5  POINT (-96.80053 32.81235)\n",
       "9  BF5         2  POINT (-96.80044 32.81188)"
      ]
     },
     "execution_count": 39,
     "metadata": {},
     "output_type": "execute_result"
    }
   ],
   "source": [
    "# create geodataframe with corresponding elevation field via a spatial join \n",
    "bf_pts = gpd.GeoDataFrame(geometry=gpd.GeoSeries(map(Point, pts_coords), crs='EPSG:4326'))\n",
    "bf_pts = gpd.sjoin(bf_pts, bfe, how='left')\n",
    "bf_pts = bf_pts[['Name', 'Elevation', 'geometry']]\n",
    "bf_pts"
   ]
  },
  {
   "cell_type": "code",
   "execution_count": 40,
   "id": "f111d823",
   "metadata": {},
   "outputs": [
    {
     "name": "stdout",
     "output_type": "stream",
     "text": [
      "Name  Elevation\n",
      "BF1   10           2\n",
      "BF2   11           2\n",
      "BF3   8            2\n",
      "BF4   5            2\n",
      "BF5   2            2\n",
      "Name: Elevation, dtype: int64\n"
     ]
    },
    {
     "data": {
      "text/html": [
       "<div style=\"width:100%;\"><div style=\"position:relative;width:100%;height:0;padding-bottom:60%;\"><span style=\"color:#565656\">Make this Notebook Trusted to load map: File -> Trust Notebook</span><iframe srcdoc=\"&lt;!DOCTYPE html&gt;\n",
       "&lt;head&gt;    \n",
       "    &lt;meta http-equiv=&quot;content-type&quot; content=&quot;text/html; charset=UTF-8&quot; /&gt;\n",
       "    \n",
       "        &lt;script&gt;\n",
       "            L_NO_TOUCH = false;\n",
       "            L_DISABLE_3D = false;\n",
       "        &lt;/script&gt;\n",
       "    \n",
       "    &lt;style&gt;html, body {width: 100%;height: 100%;margin: 0;padding: 0;}&lt;/style&gt;\n",
       "    &lt;style&gt;#map {position:absolute;top:0;bottom:0;right:0;left:0;}&lt;/style&gt;\n",
       "    &lt;script src=&quot;https://cdn.jsdelivr.net/npm/leaflet@1.6.0/dist/leaflet.js&quot;&gt;&lt;/script&gt;\n",
       "    &lt;script src=&quot;https://code.jquery.com/jquery-1.12.4.min.js&quot;&gt;&lt;/script&gt;\n",
       "    &lt;script src=&quot;https://maxcdn.bootstrapcdn.com/bootstrap/3.2.0/js/bootstrap.min.js&quot;&gt;&lt;/script&gt;\n",
       "    &lt;script src=&quot;https://cdnjs.cloudflare.com/ajax/libs/Leaflet.awesome-markers/2.0.2/leaflet.awesome-markers.js&quot;&gt;&lt;/script&gt;\n",
       "    &lt;link rel=&quot;stylesheet&quot; href=&quot;https://cdn.jsdelivr.net/npm/leaflet@1.6.0/dist/leaflet.css&quot;/&gt;\n",
       "    &lt;link rel=&quot;stylesheet&quot; href=&quot;https://maxcdn.bootstrapcdn.com/bootstrap/3.2.0/css/bootstrap.min.css&quot;/&gt;\n",
       "    &lt;link rel=&quot;stylesheet&quot; href=&quot;https://maxcdn.bootstrapcdn.com/bootstrap/3.2.0/css/bootstrap-theme.min.css&quot;/&gt;\n",
       "    &lt;link rel=&quot;stylesheet&quot; href=&quot;https://maxcdn.bootstrapcdn.com/font-awesome/4.6.3/css/font-awesome.min.css&quot;/&gt;\n",
       "    &lt;link rel=&quot;stylesheet&quot; href=&quot;https://cdnjs.cloudflare.com/ajax/libs/Leaflet.awesome-markers/2.0.2/leaflet.awesome-markers.css&quot;/&gt;\n",
       "    &lt;link rel=&quot;stylesheet&quot; href=&quot;https://cdn.jsdelivr.net/gh/python-visualization/folium/folium/templates/leaflet.awesome.rotate.min.css&quot;/&gt;\n",
       "    \n",
       "            &lt;meta name=&quot;viewport&quot; content=&quot;width=device-width,\n",
       "                initial-scale=1.0, maximum-scale=1.0, user-scalable=no&quot; /&gt;\n",
       "            &lt;style&gt;\n",
       "                #map_388978155d531a3bc92e779bfe2c62db {\n",
       "                    position: relative;\n",
       "                    width: 100.0%;\n",
       "                    height: 100.0%;\n",
       "                    left: 0.0%;\n",
       "                    top: 0.0%;\n",
       "                }\n",
       "            &lt;/style&gt;\n",
       "        \n",
       "&lt;/head&gt;\n",
       "&lt;body&gt;    \n",
       "    \n",
       "            &lt;div class=&quot;folium-map&quot; id=&quot;map_388978155d531a3bc92e779bfe2c62db&quot; &gt;&lt;/div&gt;\n",
       "        \n",
       "&lt;/body&gt;\n",
       "&lt;script&gt;    \n",
       "    \n",
       "            var map_388978155d531a3bc92e779bfe2c62db = L.map(\n",
       "                &quot;map_388978155d531a3bc92e779bfe2c62db&quot;,\n",
       "                {\n",
       "                    center: [32.8130102, -96.8010159],\n",
       "                    crs: L.CRS.EPSG3857,\n",
       "                    zoom: 16,\n",
       "                    zoomControl: true,\n",
       "                    preferCanvas: false,\n",
       "                }\n",
       "            );\n",
       "\n",
       "            \n",
       "\n",
       "        \n",
       "    \n",
       "            var tile_layer_e87b753a39de2256673f90edb153feb3 = L.tileLayer(\n",
       "                &quot;https://{s}.tile.openstreetmap.org/{z}/{x}/{y}.png&quot;,\n",
       "                {&quot;attribution&quot;: &quot;Data by \\u0026copy; \\u003ca href=\\&quot;http://openstreetmap.org\\&quot;\\u003eOpenStreetMap\\u003c/a\\u003e, under \\u003ca href=\\&quot;http://www.openstreetmap.org/copyright\\&quot;\\u003eODbL\\u003c/a\\u003e.&quot;, &quot;detectRetina&quot;: false, &quot;maxNativeZoom&quot;: 18, &quot;maxZoom&quot;: 18, &quot;minZoom&quot;: 0, &quot;noWrap&quot;: false, &quot;opacity&quot;: 1, &quot;subdomains&quot;: &quot;abc&quot;, &quot;tms&quot;: false}\n",
       "            ).addTo(map_388978155d531a3bc92e779bfe2c62db);\n",
       "        \n",
       "    \n",
       "\n",
       "        function geo_json_73d196dfea1cb4dc4c9e54d569322c74_onEachFeature(feature, layer) {\n",
       "            layer.on({\n",
       "            });\n",
       "        };\n",
       "        var geo_json_73d196dfea1cb4dc4c9e54d569322c74 = L.geoJson(null, {\n",
       "                onEachFeature: geo_json_73d196dfea1cb4dc4c9e54d569322c74_onEachFeature,\n",
       "            \n",
       "        });\n",
       "\n",
       "        function geo_json_73d196dfea1cb4dc4c9e54d569322c74_add (data) {\n",
       "            geo_json_73d196dfea1cb4dc4c9e54d569322c74\n",
       "                .addData(data)\n",
       "                .addTo(map_388978155d531a3bc92e779bfe2c62db);\n",
       "        }\n",
       "            geo_json_73d196dfea1cb4dc4c9e54d569322c74_add({&quot;features&quot;: [{&quot;geometry&quot;: {&quot;coordinates&quot;: [[-96.79928865999995, 32.81434883000003, 0.0], [-96.79837495799995, 32.813770774000034, 0.0]], &quot;type&quot;: &quot;LineString&quot;}, &quot;id&quot;: &quot;0&quot;, &quot;properties&quot;: {&quot;Elevation&quot;: &quot;10&quot;, &quot;Name&quot;: &quot;BF1&quot;}, &quot;type&quot;: &quot;Feature&quot;}, {&quot;geometry&quot;: {&quot;coordinates&quot;: [[-96.79979212799998, 32.813547010000036, 0.0], [-96.79877586799995, 32.81306218900005, 0.0]], &quot;type&quot;: &quot;LineString&quot;}, &quot;id&quot;: &quot;1&quot;, &quot;properties&quot;: {&quot;Elevation&quot;: &quot;11&quot;, &quot;Name&quot;: &quot;BF2&quot;}, &quot;type&quot;: &quot;Feature&quot;}, {&quot;geometry&quot;: {&quot;coordinates&quot;: [[-96.80040747699996, 32.81350039300003, 0.0], [-96.80002521499995, 32.812502780000045, 0.0]], &quot;type&quot;: &quot;LineString&quot;}, &quot;id&quot;: &quot;2&quot;, &quot;properties&quot;: {&quot;Elevation&quot;: &quot;8&quot;, &quot;Name&quot;: &quot;BF3&quot;}, &quot;type&quot;: &quot;Feature&quot;}, {&quot;geometry&quot;: {&quot;coordinates&quot;: [[-96.80108809199999, 32.81304354200006, 0.0], [-96.80052868299998, 32.812353604000066, 0.0]], &quot;type&quot;: &quot;LineString&quot;}, &quot;id&quot;: &quot;3&quot;, &quot;properties&quot;: {&quot;Elevation&quot;: &quot;5&quot;, &quot;Name&quot;: &quot;BF4&quot;}, &quot;type&quot;: &quot;Feature&quot;}, {&quot;geometry&quot;: {&quot;coordinates&quot;: [[-96.80112538599997, 32.81191540100008, 0.0], [-96.80043544799997, 32.81187810700004, 0.0]], &quot;type&quot;: &quot;LineString&quot;}, &quot;id&quot;: &quot;4&quot;, &quot;properties&quot;: {&quot;Elevation&quot;: &quot;2&quot;, &quot;Name&quot;: &quot;BF5&quot;}, &quot;type&quot;: &quot;Feature&quot;}], &quot;type&quot;: &quot;FeatureCollection&quot;});\n",
       "\n",
       "        \n",
       "    \n",
       "\n",
       "        function geo_json_ac32d8480d16987993cbcf7c1e0a2323_onEachFeature(feature, layer) {\n",
       "            layer.on({\n",
       "            });\n",
       "        };\n",
       "        var geo_json_ac32d8480d16987993cbcf7c1e0a2323 = L.geoJson(null, {\n",
       "                onEachFeature: geo_json_ac32d8480d16987993cbcf7c1e0a2323_onEachFeature,\n",
       "            \n",
       "        });\n",
       "\n",
       "        function geo_json_ac32d8480d16987993cbcf7c1e0a2323_add (data) {\n",
       "            geo_json_ac32d8480d16987993cbcf7c1e0a2323\n",
       "                .addData(data)\n",
       "                .addTo(map_388978155d531a3bc92e779bfe2c62db);\n",
       "        }\n",
       "            geo_json_ac32d8480d16987993cbcf7c1e0a2323_add({&quot;features&quot;: [{&quot;geometry&quot;: {&quot;coordinates&quot;: [[[-96.79928865999995, 32.81434883000003, 0.0], [-96.79837495799995, 32.813770774000034, 0.0], [-96.79877586799995, 32.81306218900005, 0.0], [-96.80002521499995, 32.812502780000045, 0.0], [-96.80052868299998, 32.812353604000066, 0.0], [-96.80043544799997, 32.81187810700004, 0.0], [-96.80112538599997, 32.81191540100008, 0.0], [-96.80108809199999, 32.81304354200006, 0.0], [-96.80040747699996, 32.81350039300003, 0.0], [-96.79979212799998, 32.813547010000036, 0.0], [-96.79928865999995, 32.81434883000003, 0.0]]], &quot;type&quot;: &quot;Polygon&quot;}, &quot;id&quot;: &quot;0&quot;, &quot;properties&quot;: {&quot;Name&quot;: null}, &quot;type&quot;: &quot;Feature&quot;}], &quot;type&quot;: &quot;FeatureCollection&quot;});\n",
       "\n",
       "        \n",
       "    \n",
       "            var marker_1cf644e6aeaff142c3971793ed85a1c5 = L.marker(\n",
       "                [32.81434883000003, -96.79928865999995],\n",
       "                {}\n",
       "            ).addTo(map_388978155d531a3bc92e779bfe2c62db);\n",
       "        \n",
       "    \n",
       "        var popup_627a1a1eb789678611cc64b6c94f3b3b = L.popup({&quot;maxWidth&quot;: &quot;100%&quot;});\n",
       "\n",
       "        \n",
       "            var html_fc187ccd9ab95a0053c75565ba2b3b80 = $(`&lt;div id=&quot;html_fc187ccd9ab95a0053c75565ba2b3b80&quot; style=&quot;width: 100.0%; height: 100.0%;&quot;&gt;Name         BF1 Elevation     10 Name: 0, dtype: object&lt;/div&gt;`)[0];\n",
       "            popup_627a1a1eb789678611cc64b6c94f3b3b.setContent(html_fc187ccd9ab95a0053c75565ba2b3b80);\n",
       "        \n",
       "\n",
       "        marker_1cf644e6aeaff142c3971793ed85a1c5.bindPopup(popup_627a1a1eb789678611cc64b6c94f3b3b)\n",
       "        ;\n",
       "\n",
       "        \n",
       "    \n",
       "    \n",
       "            var marker_fe3b5edfcb64c981b030669b8eabfc04 = L.marker(\n",
       "                [32.813547010000036, -96.79979212799998],\n",
       "                {}\n",
       "            ).addTo(map_388978155d531a3bc92e779bfe2c62db);\n",
       "        \n",
       "    \n",
       "        var popup_ef5cacae3b3c06e7a806c8d1e40785a9 = L.popup({&quot;maxWidth&quot;: &quot;100%&quot;});\n",
       "\n",
       "        \n",
       "            var html_d3f454a660eed083f42e2994747174d4 = $(`&lt;div id=&quot;html_d3f454a660eed083f42e2994747174d4&quot; style=&quot;width: 100.0%; height: 100.0%;&quot;&gt;Name         BF2 Elevation     11 Name: 1, dtype: object&lt;/div&gt;`)[0];\n",
       "            popup_ef5cacae3b3c06e7a806c8d1e40785a9.setContent(html_d3f454a660eed083f42e2994747174d4);\n",
       "        \n",
       "\n",
       "        marker_fe3b5edfcb64c981b030669b8eabfc04.bindPopup(popup_ef5cacae3b3c06e7a806c8d1e40785a9)\n",
       "        ;\n",
       "\n",
       "        \n",
       "    \n",
       "    \n",
       "            var marker_0bbc5a9e54d9956f5ca9c9300c33b3b2 = L.marker(\n",
       "                [32.81350039300003, -96.80040747699996],\n",
       "                {}\n",
       "            ).addTo(map_388978155d531a3bc92e779bfe2c62db);\n",
       "        \n",
       "    \n",
       "        var popup_6308d834e75fb99e77f4a4ea1a0301d6 = L.popup({&quot;maxWidth&quot;: &quot;100%&quot;});\n",
       "\n",
       "        \n",
       "            var html_bc4b11979a692e2dd948e484cec715fd = $(`&lt;div id=&quot;html_bc4b11979a692e2dd948e484cec715fd&quot; style=&quot;width: 100.0%; height: 100.0%;&quot;&gt;Name         BF3 Elevation      8 Name: 2, dtype: object&lt;/div&gt;`)[0];\n",
       "            popup_6308d834e75fb99e77f4a4ea1a0301d6.setContent(html_bc4b11979a692e2dd948e484cec715fd);\n",
       "        \n",
       "\n",
       "        marker_0bbc5a9e54d9956f5ca9c9300c33b3b2.bindPopup(popup_6308d834e75fb99e77f4a4ea1a0301d6)\n",
       "        ;\n",
       "\n",
       "        \n",
       "    \n",
       "    \n",
       "            var marker_1c9cb6b6f839d08d703a8985ddd8d820 = L.marker(\n",
       "                [32.81304354200006, -96.80108809199999],\n",
       "                {}\n",
       "            ).addTo(map_388978155d531a3bc92e779bfe2c62db);\n",
       "        \n",
       "    \n",
       "        var popup_8eab8b914d15676ba4f7017bcf0dd5c6 = L.popup({&quot;maxWidth&quot;: &quot;100%&quot;});\n",
       "\n",
       "        \n",
       "            var html_64b1ec7e0bee85428e1dcc00a3749e11 = $(`&lt;div id=&quot;html_64b1ec7e0bee85428e1dcc00a3749e11&quot; style=&quot;width: 100.0%; height: 100.0%;&quot;&gt;Name         BF4 Elevation      5 Name: 3, dtype: object&lt;/div&gt;`)[0];\n",
       "            popup_8eab8b914d15676ba4f7017bcf0dd5c6.setContent(html_64b1ec7e0bee85428e1dcc00a3749e11);\n",
       "        \n",
       "\n",
       "        marker_1c9cb6b6f839d08d703a8985ddd8d820.bindPopup(popup_8eab8b914d15676ba4f7017bcf0dd5c6)\n",
       "        ;\n",
       "\n",
       "        \n",
       "    \n",
       "    \n",
       "            var marker_a513cbffdbab747041252bef16764d8c = L.marker(\n",
       "                [32.81191540100008, -96.80112538599997],\n",
       "                {}\n",
       "            ).addTo(map_388978155d531a3bc92e779bfe2c62db);\n",
       "        \n",
       "    \n",
       "        var popup_374a35852ed27edc82922ba44ac4d707 = L.popup({&quot;maxWidth&quot;: &quot;100%&quot;});\n",
       "\n",
       "        \n",
       "            var html_165f8248deaaa8d35b782efca1d4d569 = $(`&lt;div id=&quot;html_165f8248deaaa8d35b782efca1d4d569&quot; style=&quot;width: 100.0%; height: 100.0%;&quot;&gt;Name         BF5 Elevation      2 Name: 4, dtype: object&lt;/div&gt;`)[0];\n",
       "            popup_374a35852ed27edc82922ba44ac4d707.setContent(html_165f8248deaaa8d35b782efca1d4d569);\n",
       "        \n",
       "\n",
       "        marker_a513cbffdbab747041252bef16764d8c.bindPopup(popup_374a35852ed27edc82922ba44ac4d707)\n",
       "        ;\n",
       "\n",
       "        \n",
       "    \n",
       "    \n",
       "            var marker_ce484f7d2615c43b4a29612f9cc2be8a = L.marker(\n",
       "                [32.813770774000034, -96.79837495799995],\n",
       "                {}\n",
       "            ).addTo(map_388978155d531a3bc92e779bfe2c62db);\n",
       "        \n",
       "    \n",
       "        var popup_e928c51ed1f083238b454ab8bc550031 = L.popup({&quot;maxWidth&quot;: &quot;100%&quot;});\n",
       "\n",
       "        \n",
       "            var html_ae72faee02fd6527d660a00d2b2a99f3 = $(`&lt;div id=&quot;html_ae72faee02fd6527d660a00d2b2a99f3&quot; style=&quot;width: 100.0%; height: 100.0%;&quot;&gt;Name         BF1 Elevation     10 Name: 5, dtype: object&lt;/div&gt;`)[0];\n",
       "            popup_e928c51ed1f083238b454ab8bc550031.setContent(html_ae72faee02fd6527d660a00d2b2a99f3);\n",
       "        \n",
       "\n",
       "        marker_ce484f7d2615c43b4a29612f9cc2be8a.bindPopup(popup_e928c51ed1f083238b454ab8bc550031)\n",
       "        ;\n",
       "\n",
       "        \n",
       "    \n",
       "    \n",
       "            var marker_ec83bba25c94a68549dd41f94593a7f8 = L.marker(\n",
       "                [32.81306218900005, -96.79877586799995],\n",
       "                {}\n",
       "            ).addTo(map_388978155d531a3bc92e779bfe2c62db);\n",
       "        \n",
       "    \n",
       "        var popup_7eeb743c2d5e04bb436b13602a22a3ec = L.popup({&quot;maxWidth&quot;: &quot;100%&quot;});\n",
       "\n",
       "        \n",
       "            var html_ff287b8a6c84f6970cb60f1c2e361c94 = $(`&lt;div id=&quot;html_ff287b8a6c84f6970cb60f1c2e361c94&quot; style=&quot;width: 100.0%; height: 100.0%;&quot;&gt;Name         BF2 Elevation     11 Name: 6, dtype: object&lt;/div&gt;`)[0];\n",
       "            popup_7eeb743c2d5e04bb436b13602a22a3ec.setContent(html_ff287b8a6c84f6970cb60f1c2e361c94);\n",
       "        \n",
       "\n",
       "        marker_ec83bba25c94a68549dd41f94593a7f8.bindPopup(popup_7eeb743c2d5e04bb436b13602a22a3ec)\n",
       "        ;\n",
       "\n",
       "        \n",
       "    \n",
       "    \n",
       "            var marker_9c40518e5503b1e7dad2e3cf8ab54486 = L.marker(\n",
       "                [32.812502780000045, -96.80002521499995],\n",
       "                {}\n",
       "            ).addTo(map_388978155d531a3bc92e779bfe2c62db);\n",
       "        \n",
       "    \n",
       "        var popup_aafdbb6fbf9c839519a3ca5d1f470aee = L.popup({&quot;maxWidth&quot;: &quot;100%&quot;});\n",
       "\n",
       "        \n",
       "            var html_fe8a43fa1d7f3c224ebb88b3dc5d7786 = $(`&lt;div id=&quot;html_fe8a43fa1d7f3c224ebb88b3dc5d7786&quot; style=&quot;width: 100.0%; height: 100.0%;&quot;&gt;Name         BF3 Elevation      8 Name: 7, dtype: object&lt;/div&gt;`)[0];\n",
       "            popup_aafdbb6fbf9c839519a3ca5d1f470aee.setContent(html_fe8a43fa1d7f3c224ebb88b3dc5d7786);\n",
       "        \n",
       "\n",
       "        marker_9c40518e5503b1e7dad2e3cf8ab54486.bindPopup(popup_aafdbb6fbf9c839519a3ca5d1f470aee)\n",
       "        ;\n",
       "\n",
       "        \n",
       "    \n",
       "    \n",
       "            var marker_fc371ad12c6a54b6bd92722e7485b937 = L.marker(\n",
       "                [32.812353604000066, -96.80052868299998],\n",
       "                {}\n",
       "            ).addTo(map_388978155d531a3bc92e779bfe2c62db);\n",
       "        \n",
       "    \n",
       "        var popup_e3b7fbb9337130f436110f14de037b97 = L.popup({&quot;maxWidth&quot;: &quot;100%&quot;});\n",
       "\n",
       "        \n",
       "            var html_af37adc7bcae193d82d503edb933ef65 = $(`&lt;div id=&quot;html_af37adc7bcae193d82d503edb933ef65&quot; style=&quot;width: 100.0%; height: 100.0%;&quot;&gt;Name         BF4 Elevation      5 Name: 8, dtype: object&lt;/div&gt;`)[0];\n",
       "            popup_e3b7fbb9337130f436110f14de037b97.setContent(html_af37adc7bcae193d82d503edb933ef65);\n",
       "        \n",
       "\n",
       "        marker_fc371ad12c6a54b6bd92722e7485b937.bindPopup(popup_e3b7fbb9337130f436110f14de037b97)\n",
       "        ;\n",
       "\n",
       "        \n",
       "    \n",
       "    \n",
       "            var marker_c051d9ee5b7e1286bc8a563a701032d9 = L.marker(\n",
       "                [32.81187810700004, -96.80043544799997],\n",
       "                {}\n",
       "            ).addTo(map_388978155d531a3bc92e779bfe2c62db);\n",
       "        \n",
       "    \n",
       "        var popup_b2f9291422d158f006cdf46c00f95cde = L.popup({&quot;maxWidth&quot;: &quot;100%&quot;});\n",
       "\n",
       "        \n",
       "            var html_a1cbda1d9667069252401421978eaa46 = $(`&lt;div id=&quot;html_a1cbda1d9667069252401421978eaa46&quot; style=&quot;width: 100.0%; height: 100.0%;&quot;&gt;Name         BF5 Elevation      2 Name: 9, dtype: object&lt;/div&gt;`)[0];\n",
       "            popup_b2f9291422d158f006cdf46c00f95cde.setContent(html_a1cbda1d9667069252401421978eaa46);\n",
       "        \n",
       "\n",
       "        marker_c051d9ee5b7e1286bc8a563a701032d9.bindPopup(popup_b2f9291422d158f006cdf46c00f95cde)\n",
       "        ;\n",
       "\n",
       "        \n",
       "    \n",
       "&lt;/script&gt;\" style=\"position:absolute;width:100%;height:100%;left:0;top:0;border:none !important;\" allowfullscreen webkitallowfullscreen mozallowfullscreen></iframe></div></div>"
      ],
      "text/plain": [
       "<folium.folium.Map at 0x16f4dd67850>"
      ]
     },
     "execution_count": 40,
     "metadata": {},
     "output_type": "execute_result"
    }
   ],
   "source": [
    "# add to folium map\n",
    "bf_pts[\"x\"] = bf_pts.centroid.map(lambda p: p.x)\n",
    "bf_pts[\"y\"] = bf_pts.centroid.map(lambda p: p.y)\n",
    "for i in range(0,len(bf_pts)):\n",
    "    folium.Marker(location=[bf_pts.loc[i, 'y'], bf_pts.loc[i, 'x']],\n",
    "                  popup=bf_pts.loc[i, ['Name','Elevation']]).add_to(m)\n",
    "print(bf_pts.groupby('Name')['Elevation'].value_counts())\n",
    "m"
   ]
  },
  {
   "cell_type": "code",
   "execution_count": 7,
   "id": "bb793783",
   "metadata": {},
   "outputs": [],
   "source": [
    "# write out to shapefile before using in Interpolation process\n",
    "bf_pts.to_file('bf_pts.shp')"
   ]
  },
  {
   "cell_type": "markdown",
   "id": "766d64a8",
   "metadata": {},
   "source": [
    "2. NEAREST NEIGHBOR INTERPOLATION USING GDAL\n",
    "\n",
    "The following shows an example of how to use the nearest neighbor interpolation method in Python. A raster is generated using the sample points from 'bf_pts.shp' and the 'Elevation' field for values. The raster is then clipped to the Flood Surface Polygon (i.e. 'FSP.shp')."
   ]
  },
  {
   "cell_type": "code",
   "execution_count": 8,
   "id": "cbc002de",
   "metadata": {},
   "outputs": [],
   "source": [
    "# nearest neighbor interpolation\n",
    "nn = gdal.Grid('nn.tif', 'bf_pts.shp', zfield='Elevation', algorithm='nearest')"
   ]
  },
  {
   "cell_type": "code",
   "execution_count": 9,
   "id": "9e8d27af",
   "metadata": {},
   "outputs": [
    {
     "data": {
      "text/plain": [
       "<matplotlib.colorbar.Colorbar at 0x25feb6fa800>"
      ]
     },
     "execution_count": 9,
     "metadata": {},
     "output_type": "execute_result"
    },
    {
     "data": {
      "image/png": "[encoded data removed]",
      "text/plain": [
       "<Figure size 432x288 with 2 Axes>"
      ]
     },
     "metadata": {
      "needs_background": "light"
     },
     "output_type": "display_data"
    }
   ],
   "source": [
    "nn_clip = gdal.Warp('nn_clip.tif', nn, cutlineDSName='FSP.shp',\n",
    "                   cropToCutline=True, dstNodata=np.nan)\n",
    "array = nn_clip.GetRasterBand(1).ReadAsArray()\n",
    "plt.imshow(array)\n",
    "plt.colorbar()"
   ]
  },
  {
   "cell_type": "markdown",
   "id": "61352d96",
   "metadata": {},
   "source": [
    "3. INVERSE DISTANCE WEIGHTED INTERPOLATION METHOD (IDW)\n",
    "The following shows an example of the IDW interpolation method in Python. The power parameter indicates the speed at which the influence of each point reduces as distance increases. Larger values indicate that points loose their influence slower, whereas lower values indicate that points loose their influence faster. A raster is generated using the sample points from 'bf_pts.shp' and the 'Elevation' field for values. The raster is then clipped to the Flood Surface Polygon (i.e. 'FSP.shp')."
   ]
  },
  {
   "cell_type": "code",
   "execution_count": 10,
   "id": "044027c7",
   "metadata": {},
   "outputs": [],
   "source": [
    "# IDW Interpolation @ power=4\n",
    "idw4 = gdal.Grid('idw_4.tif', 'bf_pts.shp', zfield='Elevation', algorithm='invdist:power=4')"
   ]
  },
  {
   "cell_type": "code",
   "execution_count": 11,
   "id": "58b36b3f",
   "metadata": {},
   "outputs": [
    {
     "data": {
      "text/plain": [
       "<matplotlib.colorbar.Colorbar at 0x25febef5570>"
      ]
     },
     "execution_count": 11,
     "metadata": {},
     "output_type": "execute_result"
    },
    {
     "data": {
      "image/png": "[encoded data removed]",
      "text/plain": [
       "<Figure size 432x288 with 2 Axes>"
      ]
     },
     "metadata": {
      "needs_background": "light"
     },
     "output_type": "display_data"
    }
   ],
   "source": [
    "idw_clip4 = gdal.Warp('idw_clip_4.tif', idw4, cutlineDSName='FSP.shp',\n",
    "                   cropToCutline=True, dstNodata=np.nan)\n",
    "array = idw_clip4.GetRasterBand(1).ReadAsArray()\n",
    "plt.imshow(array)\n",
    "plt.colorbar()"
   ]
  },
  {
   "cell_type": "code",
   "execution_count": 12,
   "id": "dc9c2c4d",
   "metadata": {},
   "outputs": [],
   "source": [
    "# IDW Interpolation @ power=2\n",
    "idw2 = gdal.Grid('idw_2.tif', 'bf_pts.shp', zfield='Elevation', algorithm='invdist:power=2')"
   ]
  },
  {
   "cell_type": "code",
   "execution_count": 13,
   "id": "18eaae13",
   "metadata": {},
   "outputs": [
    {
     "data": {
      "text/plain": [
       "<matplotlib.colorbar.Colorbar at 0x25fed095840>"
      ]
     },
     "execution_count": 13,
     "metadata": {},
     "output_type": "execute_result"
    },
    {
     "data": {
      "image/png": "[encoded data removed]",
      "text/plain": [
       "<Figure size 432x288 with 2 Axes>"
      ]
     },
     "metadata": {
      "needs_background": "light"
     },
     "output_type": "display_data"
    }
   ],
   "source": [
    "idw_clip2 = gdal.Warp('idw_clip_2.tif', idw2, cutlineDSName='FSP.shp',\n",
    "                   cropToCutline=True, dstNodata=np.nan)\n",
    "array = idw_clip2.GetRasterBand(1).ReadAsArray()\n",
    "plt.imshow(array)\n",
    "plt.colorbar()"
   ]
  },
  {
   "cell_type": "code",
   "execution_count": 14,
   "id": "72437416",
   "metadata": {},
   "outputs": [],
   "source": [
    "# IDW Interpolation @ power=6\n",
    "idw6 = gdal.Grid('idw_6.tif', 'bf_pts.shp', zfield='Elevation', algorithm='invdist:power=6')"
   ]
  },
  {
   "cell_type": "code",
   "execution_count": 15,
   "id": "0510cf65",
   "metadata": {},
   "outputs": [
    {
     "data": {
      "text/plain": [
       "<matplotlib.colorbar.Colorbar at 0x25fed14d8a0>"
      ]
     },
     "execution_count": 15,
     "metadata": {},
     "output_type": "execute_result"
    },
    {
     "data": {
      "image/png": "[encoded data removed]",
      "text/plain": [
       "<Figure size 432x288 with 2 Axes>"
      ]
     },
     "metadata": {
      "needs_background": "light"
     },
     "output_type": "display_data"
    }
   ],
   "source": [
    "idw_clip6 = gdal.Warp('idw_clip_6.tif', idw6, cutlineDSName='FSP.shp',\n",
    "                   cropToCutline=True, dstNodata=np.nan)\n",
    "array = idw_clip6.GetRasterBand(1).ReadAsArray()\n",
    "plt.imshow(array)\n",
    "plt.colorbar()"
   ]
  },
  {
   "cell_type": "code",
   "execution_count": null,
   "id": "5fdbb022",
   "metadata": {},
   "outputs": [],
   "source": []
  }
 ],
 "metadata": {
  "kernelspec": {
   "display_name": "Python [conda env:geopandas] *",
   "language": "python",
   "name": "conda-env-geopandas-py"
  },
  "language_info": {
   "codemirror_mode": {
    "name": "ipython",
    "version": 3
   },
   "file_extension": ".py",
   "mimetype": "text/x-python",
   "name": "python",
   "nbconvert_exporter": "python",
   "pygments_lexer": "ipython3",
   "version": "3.10.4"
  }
 },
 "nbformat": 4,
 "nbformat_minor": 5
}
